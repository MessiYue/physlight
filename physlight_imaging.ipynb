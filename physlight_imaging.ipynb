{
  "nbformat": 4,
  "nbformat_minor": 0,
  "metadata": {
    "colab": {
      "name": "physlight_imaging.ipynb",
      "provenance": [],
      "collapsed_sections": []
    },
    "kernelspec": {
      "name": "python3",
      "display_name": "Python 3"
    }
  },
  "cells": [
    {
      "cell_type": "markdown",
      "metadata": {
        "id": "PviKho2fD7y_",
        "colab_type": "text"
      },
      "source": [
        "Copyright © 2020, Weta Digital, Ltd.\n",
        "\n",
        "SPDX-License-Identifier: Apache-2.0\n",
        "\n",
        "# PhysLight Imaging\n",
        "\n",
        "Here's a very simple idealized \"renderer\" that calculates the sRGB (linear) pixel values given a $2.5lx$ uniform environment light illuminating a 100% diffuse reflector.\n",
        "\n",
        "We'll set default camera parameters according to the exposure equation and verify that our output pixel values are exactly 1."
      ]
    },
    {
      "cell_type": "code",
      "metadata": {
        "id": "H6MexaUTEvIw",
        "colab_type": "code",
        "colab": {
          "base_uri": "https://localhost:8080/",
          "height": 35
        },
        "outputId": "09fd0d25-5c95-4209-d433-d0e1e316b2b2"
      },
      "source": [
        "!pip install -q colour-science\n",
        "!pip install -q matplotlib\n",
        "\n",
        "import colour\n",
        "import numpy as np\n",
        "import math\n"
      ],
      "execution_count": 1,
      "outputs": [
        {
          "output_type": "stream",
          "text": [
            "\u001b[K     |████████████████████████████████| 1.6MB 3.4MB/s \n",
            "\u001b[?25h"
          ],
          "name": "stdout"
        }
      ]
    },
    {
      "cell_type": "code",
      "metadata": {
        "id": "gfvMasXqE0bv",
        "colab_type": "code",
        "colab": {}
      },
      "source": [
        "# couple of utility functions that wrap colour's functionality to make the code clearer down below\n",
        "def spectral_to_XYZ(sd):\n",
        "  return colour.sd_to_XYZ(colour.sd_ones(), illuminant=sd) / 100.0\n",
        "\n",
        "def to_photometric(sd):\n",
        "  xyz = spectral_to_XYZ(sd)\n",
        "  return xyz[1]\n"
      ],
      "execution_count": 2,
      "outputs": []
    },
    {
      "cell_type": "markdown",
      "metadata": {
        "id": "xaJkpeENFpKw",
        "colab_type": "text"
      },
      "source": [
        "We first rescale $D65$ to $1$ instead of $100$ to normalize it to $1 nit$"
      ]
    },
    {
      "cell_type": "code",
      "metadata": {
        "id": "BtwnIj-jF9Tc",
        "colab_type": "code",
        "colab": {}
      },
      "source": [
        "# D65 is our light source, we'll rescale it to 1 instead of 100\n",
        "spd_light = colour.ILLUMINANTS_SDS['D65'].copy() / 100\n",
        "cmf = colour.STANDARD_OBSERVERS_CMFS['CIE 1931 2 Degree Standard Observer']\n",
        "\n",
        "# Check that our normalized SPD does indeed equal 1 nit\n",
        "assert to_photometric(spd_light) == 1.0"
      ],
      "execution_count": 3,
      "outputs": []
    },
    {
      "cell_type": "markdown",
      "metadata": {
        "id": "xLmTR0GGGDih",
        "colab_type": "text"
      },
      "source": [
        "Our setup is $2.5lx$ incident on a 100% diffuse reflector. So exitant luminance from the surface, $L_v$ will be $\\frac{2.5}{\\pi} nit$"
      ]
    },
    {
      "cell_type": "code",
      "metadata": {
        "id": "dpF4F1ELGa2C",
        "colab_type": "code",
        "colab": {}
      },
      "source": [
        "L_v = 2.5 / math.pi\n",
        "# L is radiance scaled to $L_v nit$\n",
        "L = spd_light * L_v"
      ],
      "execution_count": 4,
      "outputs": []
    },
    {
      "cell_type": "markdown",
      "metadata": {
        "id": "diRNCuocGqsI",
        "colab_type": "text"
      },
      "source": [
        "EV settings from Wikipedia $2.5lx$ $EV0$ example.\n",
        "\n",
        "\n",
        "https://en.wikipedia.org/wiki/Exposure_value#Relationship_of_EV_to_lighting_conditions\n",
        "\n",
        "When $EV=0$ (i.e. $2.5lx$ assuming $C=250$), then we should get a \"correct\" exposure\n",
        "with these camera settings"
      ]
    },
    {
      "cell_type": "code",
      "metadata": {
        "id": "JzGWNOgGGoa-",
        "colab_type": "code",
        "colab": {}
      },
      "source": [
        "t = 1.0\n",
        "N = 1.0\n",
        "S = 100.0\n",
        "C = 250.0\n"
      ],
      "execution_count": 5,
      "outputs": []
    },
    {
      "cell_type": "markdown",
      "metadata": {
        "id": "XXDQf1pRHFfb",
        "colab_type": "text"
      },
      "source": [
        "Convert radiance entering the camera system to exposure in $W m^{-2} nm^{-1} s$ (ish - we're actually representing some sort of output signal from the sensor here rather than exposure at the sensor, but it's easier to think of it this way)\n"
      ]
    },
    {
      "cell_type": "code",
      "metadata": {
        "id": "XkVFhoj3G7fC",
        "colab_type": "code",
        "colab": {}
      },
      "source": [
        "imaging_ratio = (math.pi * t * S) / (C * N * N)\n",
        "H = L * imaging_ratio"
      ],
      "execution_count": 6,
      "outputs": []
    },
    {
      "cell_type": "markdown",
      "metadata": {
        "id": "zejGP096HDAO",
        "colab_type": "text"
      },
      "source": [
        "Convert to XYZ then to linear sRGB. We get back to exactly 1 in RGB by dividing by the RGB whitepoint"
      ]
    },
    {
      "cell_type": "code",
      "metadata": {
        "id": "R17kphqCHhSd",
        "colab_type": "code",
        "colab": {
          "base_uri": "https://localhost:8080/",
          "height": 35
        },
        "outputId": "cd31f12b-9b0e-4807-c954-f3b54d5f92f2"
      },
      "source": [
        "H_xyz = spectral_to_XYZ(H) / 100.0\n",
        "\n",
        "model = colour.models.sRGB_COLOURSPACE\n",
        "\n",
        "white_xyz = spectral_to_XYZ(spd_light) / 100.0\n",
        "white_rgb = colour.XYZ_to_RGB(white_xyz, model.whitepoint, model.whitepoint, model.XYZ_to_RGB_matrix)\n",
        "\n",
        "H_rgb = colour.XYZ_to_RGB(H_xyz, model.whitepoint, model.whitepoint, model.XYZ_to_RGB_matrix) / white_rgb\n",
        "print('H_rgb', H_rgb)\n",
        "assert np.array_equal(np.round(H_rgb, 7), [1.0, 1.0, 1.0])"
      ],
      "execution_count": 7,
      "outputs": [
        {
          "output_type": "stream",
          "text": [
            "H_rgb [ 1.  1.  1.]\n"
          ],
          "name": "stdout"
        }
      ]
    }
  ]
}